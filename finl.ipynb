{
 "cells": [
  {
   "cell_type": "markdown",
   "id": "f92800f8",
   "metadata": {},
   "source": [
    "Data Science Tools and Ecosystem"
   ]
  },
  {
   "cell_type": "markdown",
   "id": "51100119",
   "metadata": {},
   "source": [
    "Objectives:\n",
    "1. List popular languages for data science.\n",
    "2. List populer libraries for data science\n",
    "3. list populer tools for data science.\n"
   ]
  },
  {
   "cell_type": "markdown",
   "id": "11163ecd",
   "metadata": {},
   "source": [
    "In this notebook,Data Science Tools and Ecosystem are summerized."
   ]
  },
  {
   "cell_type": "markdown",
   "id": "1e7e3d35",
   "metadata": {},
   "source": [
    "Some of the popular languages that data scientist use are:\n",
    "1. Python\n",
    "2. Java\n",
    "3. c++"
   ]
  },
  {
   "cell_type": "markdown",
   "id": "11c46cf6",
   "metadata": {},
   "source": [
    "Some of the commonly used libraries used by data scientists include:\n",
    "1. Numpy\n",
    "2. Scarela\n",
    "3. Panda"
   ]
  },
  {
   "cell_type": "markdown",
   "id": "866a5174",
   "metadata": {},
   "source": [
    "Data Science Tools\n",
    "1.  Jupyter Notebook\n",
    "2.  Rstudio\n",
    "3. Vstudio"
   ]
  },
  {
   "cell_type": "code",
   "execution_count": 2,
   "id": "8ee746e4",
   "metadata": {},
   "outputs": [
    {
     "data": {
      "text/plain": [
       "5"
      ]
     },
     "execution_count": 2,
     "metadata": {},
     "output_type": "execute_result"
    }
   ],
   "source": [
    "2+3"
   ]
  },
  {
   "cell_type": "code",
   "execution_count": 3,
   "id": "44c9f8bc",
   "metadata": {},
   "outputs": [
    {
     "data": {
      "text/plain": [
       "17"
      ]
     },
     "execution_count": 3,
     "metadata": {},
     "output_type": "execute_result"
    }
   ],
   "source": [
    "(3*4)+5"
   ]
  },
  {
   "cell_type": "code",
   "execution_count": 6,
   "id": "69a22191",
   "metadata": {},
   "outputs": [
    {
     "data": {
      "text/plain": [
       "3.3333333333333335"
      ]
     },
     "execution_count": 6,
     "metadata": {},
     "output_type": "execute_result"
    }
   ],
   "source": [
    "200/60"
   ]
  },
  {
   "cell_type": "markdown",
   "id": "1a03a476",
   "metadata": {},
   "source": [
    "Author : \n",
    "          Madiha Rani "
   ]
  },
  {
   "cell_type": "code",
   "execution_count": null,
   "id": "69eebe95",
   "metadata": {},
   "outputs": [],
   "source": []
  }
 ],
 "metadata": {
  "kernelspec": {
   "display_name": "Python 3 (ipykernel)",
   "language": "python",
   "name": "python3"
  },
  "language_info": {
   "codemirror_mode": {
    "name": "ipython",
    "version": 3
   },
   "file_extension": ".py",
   "mimetype": "text/x-python",
   "name": "python",
   "nbconvert_exporter": "python",
   "pygments_lexer": "ipython3",
   "version": "3.11.5"
  }
 },
 "nbformat": 4,
 "nbformat_minor": 5
}
